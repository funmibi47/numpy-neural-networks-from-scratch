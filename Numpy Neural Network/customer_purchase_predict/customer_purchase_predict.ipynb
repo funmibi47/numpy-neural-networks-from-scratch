{
 "cells": [
  {
   "cell_type": "markdown",
   "id": "c3395b38-a82f-4701-89eb-ceeb8c9f136d",
   "metadata": {},
   "source": [
    "## Setup"
   ]
  },
  {
   "cell_type": "code",
   "execution_count": 18,
   "id": "a0b39853-f2e3-4f1b-a94f-3759c1966be6",
   "metadata": {},
   "outputs": [],
   "source": [
    "import numpy as np"
   ]
  },
  {
   "cell_type": "code",
   "execution_count": 20,
   "id": "b517bd3d-43c7-4bf8-ab84-9a2ecf3cb7ea",
   "metadata": {},
   "outputs": [],
   "source": [
    "\n",
    "# Input data: Hours studied, number of practice tests taken\n",
    "X = np.array([[5, 1],\n",
    "              [10, 2],\n",
    "              [2, 0],\n",
    "              [8, 3]])\n",
    "\n",
    "# Labels: Pass (1) or Fail (0)\n",
    "y = np.array([[1], [1], [0], [1]])\n",
    "\n",
    "# Normalize\n",
    "X = X / np.amax(X, axis=0)\n",
    "\n",
    "# Random seed for consistency\n",
    "np.random.seed(42)\n",
    "\n",
    "# -------------------------\n",
    "# This is the Hidden Layer\n",
    "# -------------------------\n",
    "# 2 input features -> 2 hidden neurons\n",
    "hidden_weights = np.random.rand(2, 2)\n",
    "\n",
    "# -------------------------\n",
    "# Output Layer\n",
    "# -------------------------\n",
    "# 2 hidden neurons -> 1 output\n",
    "output_weights = np.random.rand(2, 1)"
   ]
  },
  {
   "cell_type": "markdown",
   "id": "ba4e40f5-960e-4078-94c8-7e05b5af8696",
   "metadata": {},
   "source": [
    "## Activation and Derivative"
   ]
  },
  {
   "cell_type": "code",
   "execution_count": 14,
   "id": "106f83f6-03d1-4629-b9a5-73e6101bf933",
   "metadata": {},
   "outputs": [],
   "source": [
    "def sigmoid(x):\n",
    "    return 1 / (1 + np.exp(-x))\n",
    "\n",
    "def sigmoid_derivative(x):\n",
    "    return x * (1 - x)"
   ]
  },
  {
   "cell_type": "markdown",
   "id": "db7480e7-2b1f-4c41-94fb-432eb83eb451",
   "metadata": {},
   "source": [
    "## Training (with Hidden Layer)"
   ]
  },
  {
   "cell_type": "code",
   "execution_count": 26,
   "id": "5b87644d-780d-42b5-a50a-701c29445016",
   "metadata": {},
   "outputs": [],
   "source": [
    "learning_rate = 0.1\n",
    "epochs = 1000\n",
    "\n",
    "for i in range(epochs):\n",
    "# Forward pass\n",
    "\n",
    "    # ------------------------------------------\n",
    "    # Hidden Layer: Input -> Dot -> Activation\n",
    "    # ------------------------------------------\n",
    "    hidden_input = np.dot(X, hidden_weights)\n",
    "    hidden_output = sigmoid(hidden_input)\n",
    "\n",
    "    # ------------------------------------------\n",
    "    # Output Layer: Hidden -> Dot -> Activation\n",
    "    # ------------------------------------------\n",
    "    final_input = np.dot(hidden_output, output_weights)\n",
    "    predicted_output = sigmoid(final_input)\n",
    "\n",
    "    # Backpropagation\n",
    "\n",
    "    error = y - predicted_output\n",
    "    d_predicted = error * sigmoid_derivative(predicted_output)\n",
    "\n",
    "    error_hidden = d_predicted.dot(output_weights.T)\n",
    "    d_hidden = error_hidden * sigmoid_derivative(hidden_output)\n",
    "\n",
    "    # Update weights\n",
    "    output_weights += hidden_output.T.dot(d_predicted) * learning_rate\n",
    "    hidden_weights += X.T.dot(d_hidden) * learning_rate"
   ]
  },
  {
   "cell_type": "markdown",
   "id": "255644ff-70af-4d4c-a675-e592f8bcfd93",
   "metadata": {},
   "source": [
    "## Prediction Function"
   ]
  },
  {
   "cell_type": "code",
   "execution_count": 29,
   "id": "2ccbbdf2-08d5-4d10-9f7f-bf501fd2348e",
   "metadata": {},
   "outputs": [],
   "source": [
    "def predict(new_data, hidden_weights, output_weights):\n",
    "    hidden_layer = sigmoid(np.dot(new_data, hidden_weights))\n",
    "    final_output = sigmoid(np.dot(hidden_layer, output_weights))\n",
    "    return final_output"
   ]
  },
  {
   "cell_type": "markdown",
   "id": "576abb75-af8d-4fa5-862b-16908dc21c49",
   "metadata": {},
   "source": [
    "## Predicting for a new student"
   ]
  },
  {
   "cell_type": "code",
   "execution_count": 34,
   "id": "c535e134-0c82-419c-9a84-206706630732",
   "metadata": {},
   "outputs": [
    {
     "name": "stdout",
     "output_type": "stream",
     "text": [
      "Will the student pass? [[0.83808176]]\n"
     ]
    }
   ],
   "source": [
    "student = np.array([5, 1]) / np.amax(X, axis=0)\n",
    "result = predict(student.reshape(1, -1), hidden_weights, output_weights)\n",
    "print(\"Will the student pass?\", result)"
   ]
  }
 ],
 "metadata": {
  "kernelspec": {
   "display_name": "Python [conda env:base] *",
   "language": "python",
   "name": "conda-base-py"
  },
  "language_info": {
   "codemirror_mode": {
    "name": "ipython",
    "version": 3
   },
   "file_extension": ".py",
   "mimetype": "text/x-python",
   "name": "python",
   "nbconvert_exporter": "python",
   "pygments_lexer": "ipython3",
   "version": "3.12.7"
  }
 },
 "nbformat": 4,
 "nbformat_minor": 5
}
