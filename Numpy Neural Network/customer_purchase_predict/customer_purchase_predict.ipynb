{
 "cells": [
  {
   "cell_type": "markdown",
   "id": "1b8782e5-d6fb-4e40-8031-1af77c8f3cd7",
   "metadata": {},
   "source": [
    "- Age\n",
    "- Estimated Salary\n",
    "\n",
    "A binary classification will be used (Buy = 1, Not Buy = 0), including a hidden layer with 2 neurons."
   ]
  },
  {
   "cell_type": "code",
   "execution_count": 4,
   "id": "c5bfe599-033b-4a26-ac33-b7ebb91eb18d",
   "metadata": {},
   "outputs": [],
   "source": [
    "import numpy as np\n",
    "\n",
    "# Inputs (features)\n",
    "X = np.array([[22, 50],\n",
    "              [25, 60],\n",
    "              [47, 85],\n",
    "              [52, 110]])\n",
    "\n",
    "# Target (label)\n",
    "y = np.array([[0], [0], [1], [1]])"
   ]
  },
  {
   "cell_type": "markdown",
   "id": "e4611bc0-56e8-4b1f-82dc-f76a79c09bae",
   "metadata": {},
   "source": [
    "## Normalize the input\n",
    "\n",
    "Normalize so values are between 0 and 1 (this helps sigmoid activation work better):"
   ]
  },
  {
   "cell_type": "code",
   "execution_count": 7,
   "id": "54a45d64-aa37-46e8-b92b-aa079439e386",
   "metadata": {},
   "outputs": [],
   "source": [
    "X = X / np.amax(X, axis=0)"
   ]
  },
  {
   "cell_type": "markdown",
   "id": "08e56058-3222-46ba-8940-538c975a39a3",
   "metadata": {},
   "source": [
    "## Initialize Weights with Hidden Layer\n",
    "\n",
    "We'll use:\n",
    "\n",
    "    2 input features\n",
    "\n",
    "    1 hidden layer with 2 neurons\n",
    "\n",
    "    1 output layer with 1 neuron"
   ]
  },
  {
   "cell_type": "code",
   "execution_count": 12,
   "id": "e0ea4cb6-6d52-47b5-b482-0f3e16d1d3c2",
   "metadata": {},
   "outputs": [],
   "source": [
    "np.random.seed(42)  # Same random numbers every time\n",
    "\n",
    "# -----------------------\n",
    "# Hidden Layer (highlighted)\n",
    "# -----------------------\n",
    "# 2 inputs -> 2 neurons\n",
    "hidden_weights = np.random.rand(2, 2)\n",
    "\n",
    "# -----------------------\n",
    "# Output Layer\n",
    "# -----------------------\n",
    "# 2 neurons -> 1 output\n",
    "output_weights = np.random.rand(2, 1)"
   ]
  },
  {
   "cell_type": "markdown",
   "id": "aba6f875-687a-474a-943a-72da7f9e6b7c",
   "metadata": {},
   "source": [
    "## Activation & Derivative"
   ]
  },
  {
   "cell_type": "code",
   "execution_count": 15,
   "id": "5b46ecf8-13dc-4d15-aec4-ff9b2db61b95",
   "metadata": {},
   "outputs": [],
   "source": [
    "def sigmoid(x):\n",
    "    return 1 / (1 + np.exp(-x))\n",
    "\n",
    "def sigmoid_derivative(x):\n",
    "    return x * (1 - x)"
   ]
  },
  {
   "cell_type": "markdown",
   "id": "48e19c73-cddd-4e40-915c-8dc9095fa7e4",
   "metadata": {},
   "source": [
    "## Training Loop with Hidden Layer"
   ]
  },
  {
   "cell_type": "code",
   "execution_count": 22,
   "id": "d0b3eda8-b346-49e7-8b16-52ab2d55f456",
   "metadata": {},
   "outputs": [],
   "source": [
    "learning_rate = 0.1\n",
    "epochs = 1000\n",
    "\n",
    "for epoch in range(epochs):\n",
    "    # -------------------------------\n",
    "    # HIDDEN LAYER (highlighted)\n",
    "    # -------------------------------\n",
    "    hidden_input = np.dot(X, hidden_weights)        # shape: (4,2)\n",
    "    hidden_output = sigmoid(hidden_input)           # activated output\n",
    "\n",
    "    # -------------------------------\n",
    "    # OUTPUT LAYER\n",
    "    # -------------------------------\n",
    "    final_input = np.dot(hidden_output, output_weights)  # shape: (4,1)\n",
    "    predicted_output = sigmoid(final_input)\n",
    "\n",
    "    # -------------------------------\n",
    "    # BACKPROPAGATION\n",
    "    # -------------------------------\n",
    "    error = y - predicted_output\n",
    "    d_predicted = error * sigmoid_derivative(predicted_output)\n",
    "\n",
    "    error_hidden = d_predicted.dot(output_weights.T)\n",
    "    d_hidden = error_hidden * sigmoid_derivative(hidden_output)\n",
    "\n",
    "    # -------------------------------\n",
    "    # UPDATE WEIGHTS\n",
    "    # -------------------------------\n",
    "    output_weights += hidden_output.T.dot(d_predicted) * learning_rate\n",
    "    hidden_weights += X.T.dot(d_hidden) * learning_rate"
   ]
  },
  {
   "cell_type": "markdown",
   "id": "ded502ff-4607-4fb0-96af-4d2eed2b5aed",
   "metadata": {},
   "source": [
    "## Prediction Function"
   ]
  },
  {
   "cell_type": "code",
   "execution_count": 29,
   "id": "7ed55a20-f60b-43e2-8cbb-bb9d8646742c",
   "metadata": {},
   "outputs": [],
   "source": [
    "def predict(new_data, hidden_weights, output_weights):\n",
    "    hidden_output = sigmoid(np.dot(new_data, hidden_weights))\n",
    "    final_output = sigmoid(np.dot(hidden_output, output_weights))\n",
    "    return final_output"
   ]
  },
  {
   "cell_type": "markdown",
   "id": "b0d2d30b-63ee-4ca7-a385-3fcde7f0c9a1",
   "metadata": {},
   "source": [
    "## Predict a new person (Age 30, Salary 70k)"
   ]
  },
  {
   "cell_type": "code",
   "execution_count": 32,
   "id": "5421d61f-77b1-4e34-b7df-a1a0f9882d52",
   "metadata": {},
   "outputs": [
    {
     "name": "stdout",
     "output_type": "stream",
     "text": [
      "Will the person buy? [[0.54907582]]\n"
     ]
    }
   ],
   "source": [
    "person = np.array([[30, 70]]) / np.amax(X, axis=0)\n",
    "result = predict(person, hidden_weights, output_weights)\n",
    "print(\"Will the person buy?\", result)"
   ]
  }
 ],
 "metadata": {
  "kernelspec": {
   "display_name": "Python [conda env:base] *",
   "language": "python",
   "name": "conda-base-py"
  },
  "language_info": {
   "codemirror_mode": {
    "name": "ipython",
    "version": 3
   },
   "file_extension": ".py",
   "mimetype": "text/x-python",
   "name": "python",
   "nbconvert_exporter": "python",
   "pygments_lexer": "ipython3",
   "version": "3.12.7"
  }
 },
 "nbformat": 4,
 "nbformat_minor": 5
}
