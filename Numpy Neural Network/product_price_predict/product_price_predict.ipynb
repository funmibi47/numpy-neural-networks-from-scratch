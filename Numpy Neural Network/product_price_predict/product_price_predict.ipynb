{
 "cells": [
  {
   "cell_type": "markdown",
   "id": "16711400-b5c4-44fc-b3fe-90a21138122e",
   "metadata": {},
   "source": [
    "##  Import Tools"
   ]
  },
  {
   "cell_type": "code",
   "execution_count": 6,
   "id": "7528c128-ce12-49f9-9a37-db5c543ff85c",
   "metadata": {},
   "outputs": [],
   "source": [
    "import numpy as np"
   ]
  },
  {
   "cell_type": "markdown",
   "id": "239b97ba-8c6b-4da5-af45-700e62b07430",
   "metadata": {},
   "source": [
    "## Data (input features and actual prices)\n",
    "\n",
    "### Each row is a house:\n",
    "\n",
    "     Column 1 = size (sq ft)\n",
    "\n",
    "     Column 2 = number of bedrooms\n",
    "\n",
    "     Column 3 = age (in years)"
   ]
  },
  {
   "cell_type": "code",
   "execution_count": 9,
   "id": "1b15b80f-a947-4353-93bb-669bcd6b3089",
   "metadata": {},
   "outputs": [],
   "source": [
    "X = np.array([\n",
    "    [2100, 3, 20],\n",
    "    [1600, 2, 15],\n",
    "    [2400, 4, 5],\n",
    "    [1416, 2, 20],\n",
    "    [3000, 4, 10]\n",
    "])"
   ]
  },
  {
   "cell_type": "markdown",
   "id": "4c4084b2-353c-49c8-aa43-0104df7a0eac",
   "metadata": {},
   "source": [
    "## Target (actual prices)"
   ]
  },
  {
   "cell_type": "code",
   "execution_count": 15,
   "id": "d9fcff9c-9f81-4f1b-ab6e-97afe13ead32",
   "metadata": {},
   "outputs": [],
   "source": [
    "y = np.array([[400], [330], [540], [290], [600]])"
   ]
  },
  {
   "cell_type": "markdown",
   "id": "cf7b5925-ff63-4f62-abb0-c8d9165575aa",
   "metadata": {},
   "source": [
    "## Normalize the Data"
   ]
  },
  {
   "cell_type": "code",
   "execution_count": 18,
   "id": "1b87fd3a-c6a5-4f47-94ba-6c366df397e0",
   "metadata": {},
   "outputs": [],
   "source": [
    "X = X / np.amax(X, axis=0)"
   ]
  },
  {
   "cell_type": "markdown",
   "id": "316f693d-a139-4479-b9f5-07ddab06dc44",
   "metadata": {},
   "source": [
    "## Initialize Weights"
   ]
  },
  {
   "cell_type": "code",
   "execution_count": 21,
   "id": "cbd8dd90-75be-41f5-b480-c3902dfead70",
   "metadata": {},
   "outputs": [],
   "source": [
    "np.random.seed(42)  # so we get the same results every time\n",
    "\n",
    "# weights from input -> hidden (3 inputs -> 2 neurons)\n",
    "weights_input_hidden = np.random.rand(3, 2)\n",
    "\n",
    "# weights from hidden -> output (2 neurons -> 1 output)\n",
    "weights_hidden_output = np.random.rand(2, 1)"
   ]
  },
  {
   "cell_type": "markdown",
   "id": "3c31ae3a-0723-447e-9291-8f146e627b8a",
   "metadata": {},
   "source": [
    "## Activation Function"
   ]
  },
  {
   "cell_type": "code",
   "execution_count": 24,
   "id": "e8ae2340-4193-4690-ac4b-2a96627ded03",
   "metadata": {},
   "outputs": [],
   "source": [
    "def relu(x):\n",
    "    return np.maximum(0, x)"
   ]
  },
  {
   "cell_type": "markdown",
   "id": "b473b100-cd8e-4ef6-bd3a-861b03a9333b",
   "metadata": {},
   "source": [
    "## Forward Pass"
   ]
  },
  {
   "cell_type": "code",
   "execution_count": 27,
   "id": "22748d70-8d70-4c67-ae23-5a00fff3e436",
   "metadata": {},
   "outputs": [
    {
     "name": "stdout",
     "output_type": "stream",
     "text": [
      "Predicted Prices:\n",
      " [[1.15664476]\n",
      " [0.83946096]\n",
      " [1.27329832]\n",
      " [0.82366474]\n",
      " [1.47839168]]\n"
     ]
    }
   ],
   "source": [
    "# input -> hidden layer\n",
    "hidden_input = np.dot(X, weights_input_hidden)  \n",
    "hidden_output = relu(hidden_input)              # apply activation\n",
    "\n",
    "# hidden -> output layer\n",
    "output = np.dot(hidden_output, weights_hidden_output)  \n",
    "\n",
    "print(\"Predicted Prices:\\n\", output)"
   ]
  },
  {
   "cell_type": "markdown",
   "id": "f2a8b027-f891-4fad-97e9-8b982032de8b",
   "metadata": {},
   "source": [
    "## Loss (MSE)"
   ]
  },
  {
   "cell_type": "code",
   "execution_count": 30,
   "id": "e07f8ae9-fab9-4d54-858f-a68536d140fb",
   "metadata": {},
   "outputs": [
    {
     "name": "stdout",
     "output_type": "stream",
     "text": [
      "Loss (MSE): 199900.04201705946\n"
     ]
    }
   ],
   "source": [
    "def mse_loss(y_true, y_pred):\n",
    "    return np.mean((y_true - y_pred) ** 2)\n",
    "\n",
    "loss = mse_loss(y, output)\n",
    "print(\"Loss (MSE):\", loss)"
   ]
  }
 ],
 "metadata": {
  "kernelspec": {
   "display_name": "Python [conda env:base] *",
   "language": "python",
   "name": "conda-base-py"
  },
  "language_info": {
   "codemirror_mode": {
    "name": "ipython",
    "version": 3
   },
   "file_extension": ".py",
   "mimetype": "text/x-python",
   "name": "python",
   "nbconvert_exporter": "python",
   "pygments_lexer": "ipython3",
   "version": "3.12.7"
  }
 },
 "nbformat": 4,
 "nbformat_minor": 5
}
